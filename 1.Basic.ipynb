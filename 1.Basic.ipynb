{
 "cells": [
  {
   "cell_type": "code",
   "execution_count": null,
   "metadata": {},
   "outputs": [],
   "source": [
    "#变量类型\n",
    "'''\n",
    "int 整型：二进制（如0b100）、八进制（如0o100）、十进制（100）和十六进制（0x100）。\n",
    "float 浮点型：数学写法（如123.456） 科学计数法（如1.23456e2）。\n",
    "str 字符串型：字符串是以单引号或双引号括起来的任意文本，比如'hello'和\"hello\",多行的形式（用三个单引号或三个双引号开头，三个单引号或三个双引号结尾）。\n",
    "布尔型：布尔值只有True、False两种值，可以直接用True、False表示布尔值（请注意大小写），也可以布尔运算计算。\n",
    "复数型：形如3+5j，跟数学上的复数表示一样，唯一不同的是虚部的i换成了j。\n",
    "'''"
   ]
  },
  {
   "cell_type": "code",
   "execution_count": null,
   "metadata": {},
   "outputs": [],
   "source": [
    "#命名规则\n",
    "'''\n",
    "硬性规则：\n",
    "变量名由字母（广义的Unicode字符，不包括特殊字符）、数字和下划线构成，数字不能开头。\n",
    "大小写敏感（大写的a和小写的A是两个不同的变量）。\n",
    "不要跟关键字和系统保留字（如函数、模块等的名字）冲突。\n",
    "\n",
    "PEP 8要求：\n",
    "用小写字母拼写，多个单词用下划线连接。\n",
    "受保护的实例属性用单个下划线开头。\n",
    "私有的实例属性用两个下划线开头。\n",
    "'''"
   ]
  },
  {
   "cell_type": "code",
   "execution_count": null,
   "metadata": {},
   "outputs": [],
   "source": [
    "#类型转换\n",
    "'''\n",
    "int()：将一个数值或字符串转换成整数，可以指定进制。\n",
    "float()：将一个字符串转换成浮点数。\n",
    "str()：将指定的对象转换成字符串形式，可以指定编码。\n",
    "chr()：将整数转换成该编码对应的字符串（一个字符）。\n",
    "ord()：将字符串（一个字符）转换成对应的编码（整数）。\n",
    "'''"
   ]
  },
  {
   "cell_type": "code",
   "execution_count": null,
   "metadata": {},
   "outputs": [],
   "source": [
    "#运算符\n",
    "'''\n",
    "运算符\t描述\n",
    "=\t赋值\n",
    "[] [:]\t下标，切片\n",
    "**\t指数\n",
    "~ + -\t按位取反, 正负号\n",
    "* / % //\t乘，除，模，整除\n",
    "+ -\t加，减\n",
    ">> <<\t右移，左移\n",
    "&\t按位与\n",
    "^ |\t按位异或，按位或\n",
    "<= < > >=\t小于等于，小于，大于，大于等于\n",
    "== !=\t等于，不等于\n",
    "is  is not\t身份运算符\n",
    "in  not in\t成员运算符\n",
    "not or and\t逻辑运算符\n",
    "= += -= *= /= %= //= **= &= `\t= ^= >>= <<=`\n",
    "'''"
   ]
  },
  {
   "cell_type": "code",
   "execution_count": 6,
   "metadata": {},
   "outputs": [
    {
     "name": "stdout",
     "output_type": "stream",
     "text": [
      "高度(m)：1000\n",
      "下落时间(s): 14.29\n",
      "True\n"
     ]
    }
   ],
   "source": [
    "#练习：输入高度，计算自由落体时间，判断是否超过10s.\n",
    "h=float(input('高度(m)：'))\n",
    "t=float((2*h/9.8)**0.5)\n",
    "b_result=t>10\n",
    "print('下落时间(s): %.2f'%t)\n",
    "print(b_result)"
   ]
  },
  {
   "cell_type": "code",
   "execution_count": null,
   "metadata": {},
   "outputs": [],
   "source": [
    "#if分支结构使用if、elif和else关键字。 Python竟然无switch！！！\n",
    "'''\n",
    "使用缩进的方式来表示代码的层次结构，如果if条件成立的情况下需要执行多条语句，只要保持多条语句具有相同的缩进就可以了。\n",
    "连续的代码如果又保持了相同的缩进那么它们属于同一个代码块，相当于是一个执行的整体。\n",
    "缩进可以使用任意数量的空格，但通常使用4个空格.\n",
    "'''\n",
    "#for-in循环\n",
    "#for x in range(a,b,c):  在以c为步长（每次循环的变化量）a，b前闭后开的区间循环。不写c默认为1，不写a默认为0.\n",
    "\n",
    "#while循环\n",
    "#while 布尔值 :  布尔为真则执行循环，为假则终止循环\n",
    "\n",
    "#break  提前终止本层循环\n",
    "#continue  放弃本轮循环，开始下一轮循环"
   ]
  },
  {
   "cell_type": "code",
   "execution_count": 20,
   "metadata": {},
   "outputs": [
    {
     "name": "stdout",
     "output_type": "stream",
     "text": [
      "最大数：100\n",
      "素数：2 3 5 7 11 13 17 19 23 29 31 37 41 43 47 53 59 61 67 71 73 79 83 89 97 \n",
      "非素数：4 6 8 9 10 12 14 15 16 18 20 21 22 24 25 26 27 28 30 32 33 34 35 36 38 39 40 42 44 45 46 48 49 50 51 52 54 55 56 57 58 60 62 63 64 65 66 68 69 70 72 74 75 76 77 78 80 81 82 84 85 86 87 88 90 91 92 93 94 95 96 98 99 100 \n"
     ]
    }
   ],
   "source": [
    "#练习：输入一个正整数>=2，输出小于等于该数的所有素数与非素数。(for)\n",
    "max_number=int(input('最大数：'))\n",
    "prime=str('')\n",
    "noprime=str('')\n",
    "for x in range(1,max_number+1):\n",
    "    for y in range(2,x+1):\n",
    "        if x==y :prime=prime+str(x)+' '\n",
    "        elif x%y==0 :\n",
    "            noprime=noprime+str(x)+' '\n",
    "            break\n",
    "print('素数：%s'%prime)\n",
    "print('非素数：%s'%noprime)"
   ]
  },
  {
   "cell_type": "code",
   "execution_count": 23,
   "metadata": {},
   "outputs": [
    {
     "name": "stdout",
     "output_type": "stream",
     "text": [
      "最大数：100\n",
      "素数：2 3 5 7 11 13 17 19 23 29 31 37 41 43 47 53 59 61 67 71 73 79 83 89 97 \n",
      "非素数：4 6 8 9 10 12 14 15 16 18 20 21 22 24 25 26 27 28 30 32 33 34 35 36 38 39 40 42 44 45 46 48 49 50 51 52 54 55 56 57 58 60 62 63 64 65 66 68 69 70 72 74 75 76 77 78 80 81 82 84 85 86 87 88 90 91 92 93 94 95 96 98 99 100 \n"
     ]
    }
   ],
   "source": [
    "#练习：输入一个正整数>=2，输出小于等于该数的所有素数与非素数。(while)\n",
    "max_number=int(input('最大数：'))\n",
    "prime=str('')\n",
    "noprime=str('')\n",
    "x=1\n",
    "while x<max_number+1:\n",
    "    y=2\n",
    "    while y<x+1:\n",
    "        y=y+1\n",
    "        if x==(y-1) :prime=prime+str(x)+' '\n",
    "        elif x%(y-1)==0 :\n",
    "            noprime=noprime+str(x)+' '\n",
    "            break\n",
    "    x=x+1\n",
    "print('素数：%s'%prime)\n",
    "print('非素数：%s'%noprime)"
   ]
  },
  {
   "cell_type": "code",
   "execution_count": null,
   "metadata": {},
   "outputs": [],
   "source": [
    "#函数定义\n",
    "'''\n",
    "使用def关键字来定义函数，函数命名规则跟变量的命名规则一致。\n",
    "在函数名后面的圆括号中放置传递给函数的参数,函数执行完成后通过return关键字来返回值。\n",
    "'''\n",
    "#函数参数\n",
    "'''\n",
    "在Python中，函数的参数可以有默认值，也支持使用可变参数，所以Python并不需要像其他语言一样支持函数的重载。\n",
    "如果在调用函数的时候如果没有传入对应参数的值时将使用该参数的默认值。\n",
    "传递参数时可以不按照设定的顺序进行传递 print(add(c=50, a=100, b=200))\n",
    "    使用可变参数：在参数名前面的*表示args是一个可变参数\n",
    "def add(*args):\n",
    "    total = 0\n",
    "    for val in args:\n",
    "        total += val\n",
    "    return total\n",
    "'''"
   ]
  },
  {
   "cell_type": "code",
   "execution_count": null,
   "metadata": {},
   "outputs": [],
   "source": [
    "#模块：Python中每个文件就代表了一个模块（module）\n",
    "'''\n",
    "调用同名函数（最后的会覆盖之前的）\n",
    "import module1 as m1\n",
    "import module2 as m2\n",
    "m1.f()\n",
    "m2.f()\n",
    "'''\n",
    "#Python解释器在导入模块时会执行可执行代码\n",
    "'''\n",
    "# __name__是Python中一个隐含的变量它代表了模块的名字,只有被Python解释器直接执行的模块的名字才是__main__\n",
    "\n",
    "if __name__ == '__main__':\n",
    "    print('call foo()')\n",
    "'''\n"
   ]
  },
  {
   "cell_type": "code",
   "execution_count": 40,
   "metadata": {},
   "outputs": [
    {
     "name": "stdout",
     "output_type": "stream",
     "text": [
      "第几项：20\n",
      "6765\n"
     ]
    }
   ],
   "source": [
    "#练习: 用递归求Fibonacci第N项，0<N<30\n",
    "N=int(input('第几项：'))\n",
    "def Fibonacci(i):\n",
    "    if(i <=2):return 1\n",
    "    else: return Fibonacci(i -2) + Fibonacci(i-1)\n",
    "print(Fibonacci(N))"
   ]
  },
  {
   "cell_type": "code",
   "execution_count": null,
   "metadata": {},
   "outputs": [],
   "source": [
    "#作用域\n",
    "'''\n",
    "变量没有定义在任何一个函数中,或直接用global声明，全局变量（global variable），属于全局作用域。\n",
    "函数的中定义变量，局部变量（local variable），属于局部作用域。\n",
    "如果我们希望函数内部的函数能够修改嵌套作用域中的变量，可以使用nonlocal关键字来指示变量来自于嵌套作用域。\n",
    "'''"
   ]
  },
  {
   "cell_type": "code",
   "execution_count": 46,
   "metadata": {},
   "outputs": [
    {
     "name": "stdout",
     "output_type": "stream",
     "text": [
      "1\n",
      "1\n",
      "1\n",
      "2\n"
     ]
    }
   ],
   "source": [
    "def test():\n",
    "    global a\n",
    "    a=1\n",
    "    b=1\n",
    "    print(a)  \n",
    "    print(b)\n",
    "\n",
    "if __name__ == '__main__':\n",
    "    a = 2\n",
    "    b = 2\n",
    "    test()\n",
    "    print(a)  \n",
    "    print(b)  "
   ]
  },
  {
   "cell_type": "code",
   "execution_count": null,
   "metadata": {},
   "outputs": [],
   "source": []
  }
 ],
 "metadata": {
  "kernelspec": {
   "display_name": "Python 3",
   "language": "python",
   "name": "python3"
  },
  "language_info": {
   "codemirror_mode": {
    "name": "ipython",
    "version": 3
   },
   "file_extension": ".py",
   "mimetype": "text/x-python",
   "name": "python",
   "nbconvert_exporter": "python",
   "pygments_lexer": "ipython3",
   "version": "3.8.5"
  }
 },
 "nbformat": 4,
 "nbformat_minor": 4
}
