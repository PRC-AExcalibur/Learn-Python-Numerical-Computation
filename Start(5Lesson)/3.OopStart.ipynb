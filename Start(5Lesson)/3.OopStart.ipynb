{
 "cells": [
  {
   "cell_type": "code",
   "execution_count": null,
   "metadata": {},
   "outputs": [],
   "source": [
    "#面向对象编程\n",
    "'''\n",
    "把一组数据结构和处理它们的方法组成对象（object），把相同行为的对象归纳为类（class），\n",
    "通过类的封装（encapsulation）隐藏内部细节，\n",
    "通过继承（inheritance）实现类的特化（specialization）和泛化（generalization），\n",
    "通过多态（polymorphism）实现基于对象类型的动态分派。\n",
    "'''"
   ]
  },
  {
   "cell_type": "code",
   "execution_count": null,
   "metadata": {},
   "outputs": [],
   "source": [
    "#使用class关键字定义类，在类中通过函数定义方法\n",
    "#Python中属性和方法的访问权限只有两种，公开/私有，如果希望属性是私有的，属性命名用两个下划线作为开头。\n",
    "#与JAVA不同，不建议将属性设置为私有，因为这会导致子类无法访问\n",
    "'''\n",
    "虽然我们不建议将属性设置为私有的，但是如果直接将属性暴露给外界也是有问题的，比如我们没有办法检查赋给属性的值是否有效。\n",
    "我们之前的建议是将属性命名以单下划线开头，通过这种方式来暗示属性是受保护的，不建议外界直接访问，\n",
    "那么如果想访问属性可以通过属性的getter（访问器）和setter（修改器）方法进行对应的操作。\n",
    "如果要做到这点，就可以考虑使用@property包装器来包装getter和setter方法，使得对属性的访问既安全又方便\n",
    "\n",
    "class Person(object):\n",
    "    def __init__(self, name, age):\n",
    "        self._name = name\n",
    "        self._age = age\n",
    "    # 访问器 - getter方法\n",
    "    @property\n",
    "    def age(self):\n",
    "        return self._age\n",
    "    # 修改器 - setter方法\n",
    "    @age.setter\n",
    "    def age(self, age):\n",
    "        self._age = age\n",
    "'''"
   ]
  },
  {
   "cell_type": "code",
   "execution_count": null,
   "metadata": {},
   "outputs": [],
   "source": [
    "#静态方法  @staticmethod\n",
    "'''\n",
    "    @staticmethod\n",
    "    def is_valid(a, b, c):\n",
    "        return a + b > c and b + c > a and a + c > b\n",
    "'''\n",
    "\n",
    "#类方法  @classmethod\n",
    "'''\n",
    "类方法第一个参数约定名为cls，它代表的是当前类相关的信息的对象（类本身也是一个对象，有的地方也称之为类的元数据对象），\n",
    "通过这个参数我们可以获取和类相关的信息并且可以创建出类的对象\n",
    "\n",
    "    @classmethod\n",
    "    def now(cls):\n",
    "        ctime = localtime(time())\n",
    "        return cls(ctime.tm_hour, ctime.tm_min, ctime.tm_sec)\n",
    "'''"
   ]
  },
  {
   "cell_type": "code",
   "execution_count": null,
   "metadata": {},
   "outputs": [],
   "source": [
    "'''\n",
    "可以在已有类的基础上创建新类，这其中的一种做法就是让一个类从另一个类那里将属性和方法直接继承下来，从而减少重复代码的编写。\n",
    "提供继承信息的我们称之为父类，也叫超类或基类；得到继承信息的我们称之为子类，也叫派生类或衍生类。\n",
    "子类除了继承父类提供的属性和方法，还可以定义自己特有的属性和方法，所以子类比父类拥有的更多的能力.\n",
    "在实际开发中，我们经常会用子类对象去替换掉一个父类对象，这是面向对象编程中一个常见的行为，对应的原则称之为里氏替换原则。\n",
    "\n",
    "子类在继承了父类的方法后，可以对父类已有的方法给出新的实现版本，这个动作称之为方法重写（override）。\n",
    "通过方法重写我们可以让父类的同一个行为在子类中拥有不同的实现版本，当我们调用这个经过子类重写的方法时，\n",
    "不同的子类对象会表现出不同的行为，这个就是多态（poly-morphism）。\n",
    "\n",
    "抽象类，所谓抽象类就是不能够创建对象的类，这种类的存在就是专门为了让其他类去继承它。\n",
    "Python从语法层面并没有像Java或C#那样提供对抽象类的支持，\n",
    "但是我们可以通过abc模块的ABCMeta元类和abstractmethod包装器来达到抽象类的效果，\n",
    "如果一个类中存在抽象方法那么这个类就不能够实例化（创建对象）。\n",
    "'''"
   ]
  },
  {
   "cell_type": "code",
   "execution_count": null,
   "metadata": {},
   "outputs": [],
   "source": [
    "#语法注记\n",
    "'''\n",
    "@property   #getter \n",
    "#getter A 直接写 (class).A\n",
    "@brand.setter   #setter \n",
    "#setter A 直接写 (class).A=?\n",
    "@staticmethod  #声明静态方法\n",
    "@classmethod  #声明类方法，传入参数self\n",
    "@abstractmethod  #声明抽象方法，传入参数self\n",
    "\n",
    "#子类重构\n",
    "class Chinese(Person):\n",
    "    def __init__(self, name, age, language):  # 先继承，在重构\n",
    "        Person.__init__(self, name, age)  #继承父类的构造方法，也可以写成：super(Chinese,self).__init__(name,age)\n",
    "        self.language = language    # 定义类的本身属性\n",
    "\n",
    "'''"
   ]
  },
  {
   "cell_type": "code",
   "execution_count": null,
   "metadata": {},
   "outputs": [],
   "source": [
    "#例题，题目来源于网络并改编（JAVA原题且增加部分问题）\n",
    "'''\n",
    "（1）请创建一个Car抽象类，要求有brand属性，并且要求封装私有化，写出属性的 set、get方法。\n",
    "     抽象类Car构造方法中对brand属性赋值，写出一个抽象方法run()，写出类方法what()输出“这是一辆车”\n",
    "（2）创建一个跑车类SportsCar继承抽象类Car。实现Car抽象方法输出一条语句“超级跑车”，\n",
    "     在本类中写出一个自己的方法price()，输出一条语句“售价100w”。\n",
    "（3）定义测试类Test类，并创建跑车对象car1，用构造器赋值品牌属性，输出属性值，\n",
    "     用setter方法为brand赋值属性,输出属性值，调用run()、 price()、what()。\n",
    "（4）创建跑车car2，向上转型到Car，使用setter方法为brand赋值属性，输出属性值，调用run()what()方法。\n",
    "\n",
    "'''"
   ]
  },
  {
   "cell_type": "code",
   "execution_count": 25,
   "metadata": {},
   "outputs": [
    {
     "name": "stdout",
     "output_type": "stream",
     "text": [
      "A\n",
      "这是一辆车\n",
      "超级跑车\n",
      "售价100w\n",
      "B\n",
      "X\n",
      "这是一辆车\n"
     ]
    }
   ],
   "source": [
    "from abc import ABCMeta, abstractmethod\n",
    "class Car():\n",
    "    def __init__(self, brand):\n",
    "        self._brand = brand\n",
    "    @property\n",
    "    def brand(self):\n",
    "        return self._brand\n",
    "    @brand.setter\n",
    "    def brand(self,brand):\n",
    "        self._brand = brand\n",
    "    @abstractmethod  #声明抽象方法，传入参数self\n",
    "    def run(self):\n",
    "        pass\n",
    "    @staticmethod  #声明静态方法\n",
    "    def what():\n",
    "        print(\"这是一辆车\")\n",
    "class SportsCar(Car):\n",
    "    @classmethod  #声明类方法，传入参数self\n",
    "    def run(self):\n",
    "        print(\"超级跑车\")\n",
    "    @classmethod\n",
    "    def price(self):\n",
    "        print(\"售价100w\")\n",
    "class Test():\n",
    "    car1=SportsCar(\"A\")\n",
    "    print(car1.brand)  #getter A 直接写 (class).A\n",
    "    car1.what()\n",
    "    car1.run()\n",
    "    car1.price()\n",
    "    \n",
    "    car2=SportsCar(\"B\")\n",
    "    print(car2.brand)\n",
    "    car2=Car(car2)\n",
    "    car2.brand=\"X\"  #setter A 直接写 (class).A=?\n",
    "    print(car2.brand)\n",
    "    car2.what()\n",
    "    car2.run() #强制转换后执行空语句\n",
    "if __name__ == '__main__':\n",
    "    Test()"
   ]
  }
 ],
 "metadata": {
  "kernelspec": {
   "display_name": "Python 3",
   "language": "python",
   "name": "python3"
  },
  "language_info": {
   "codemirror_mode": {
    "name": "ipython",
    "version": 3
   },
   "file_extension": ".py",
   "mimetype": "text/x-python",
   "name": "python",
   "nbconvert_exporter": "python",
   "pygments_lexer": "ipython3",
   "version": "3.8.5"
  }
 },
 "nbformat": 4,
 "nbformat_minor": 4
}
