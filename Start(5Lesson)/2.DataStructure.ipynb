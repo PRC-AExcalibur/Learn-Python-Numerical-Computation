{
 "cells": [
  {
   "cell_type": "code",
   "execution_count": null,
   "metadata": {},
   "outputs": [],
   "source": [
    "#本节代码主要来自jackfrued的github   https://github.com/jackfrued/Python-100-Days"
   ]
  },
  {
   "cell_type": "code",
   "execution_count": null,
   "metadata": {},
   "outputs": [],
   "source": [
    "#字符串是由零个或多个字符组成的有限序列\n",
    "'''\n",
    "\\转义字符，如\\n换行 \\t制表，可以跟八进制或者十六进制数或Unicode字符编码来表示字符\n",
    "字符串最前面加r，\\不表示转义，如r'\\'hello world\\''\n",
    "可以使用+运算符来实现字符串的拼接，可以使用*运算符来重复一个字符串的内容，\n",
    "可以使用in和not in来判断一个字符串是否包含另外一个字符串（成员运算）\n",
    "可以用[]和[:]运算符从字符串取出某个字符或某些字符（切片运算）\n",
    "'''"
   ]
  },
  {
   "cell_type": "code",
   "execution_count": null,
   "metadata": {},
   "outputs": [],
   "source": [
    "s1 = 'hello ' * 3\n",
    "print(s1) # hello hello hello \n",
    "s2 = 'world'\n",
    "s1 += s2\n",
    "print(s1) # hello hello hello world\n",
    "print('ll' in s1) # True\n",
    "print('good' in s1) # False\n",
    "str2 = 'abc123456'\n",
    "# 从字符串中取出指定位置的字符(下标运算)\n",
    "print(str2[2]) # c\n",
    "# 字符串切片(从指定的开始索引到指定的结束索引)\n",
    "print(str2[2:5]) # c12\n",
    "print(str2[2:]) # c123456\n",
    "print(str2[2::2]) # c246\n",
    "print(str2[::2]) # ac246\n",
    "print(str2[::-1]) # 654321cba\n",
    "print(str2[-3:-1]) # 45"
   ]
  },
  {
   "cell_type": "code",
   "execution_count": null,
   "metadata": {},
   "outputs": [],
   "source": [
    "str1 = 'hello, world!'\n",
    "# 通过内置函数len计算字符串的长度\n",
    "print(len(str1)) # 13\n",
    "# 获得字符串首字母大写的拷贝\n",
    "print(str1.capitalize()) # Hello, world!\n",
    "# 获得字符串每个单词首字母大写的拷贝\n",
    "print(str1.title()) # Hello, World!\n",
    "# 获得字符串变大写后的拷贝\n",
    "print(str1.upper()) # HELLO, WORLD!\n",
    "# 从字符串中查找子串所在位置\n",
    "print(str1.find('or')) # 8\n",
    "print(str1.find('shit')) # -1\n",
    "# 与find类似但找不到子串时会引发异常\n",
    "# print(str1.index('or'))\n",
    "# print(str1.index('shit'))\n",
    "# 检查字符串是否以指定的字符串开头\n",
    "print(str1.startswith('He')) # False\n",
    "print(str1.startswith('hel')) # True\n",
    "# 检查字符串是否以指定的字符串结尾\n",
    "print(str1.endswith('!')) # True\n",
    "# 将字符串以指定的宽度居中并在两侧填充指定的字符\n",
    "print(str1.center(50, '*'))\n",
    "# 将字符串以指定的宽度靠右放置左侧填充指定的字符\n",
    "print(str1.rjust(50, ' '))\n",
    "str2 = 'abc123456'\n",
    "# 检查字符串是否由数字构成\n",
    "print(str2.isdigit())  # False\n",
    "# 检查字符串是否以字母构成\n",
    "print(str2.isalpha())  # False\n",
    "# 检查字符串是否以数字和字母构成\n",
    "print(str2.isalnum())  # True\n",
    "str3 = '  jackfrued@126.com '\n",
    "print(str3)\n",
    "# 获得字符串修剪左右两侧空格之后的拷贝\n",
    "print(str3.strip())"
   ]
  },
  {
   "cell_type": "code",
   "execution_count": null,
   "metadata": {},
   "outputs": [],
   "source": [
    "#格式化字符串\n",
    "a, b = 5, 10\n",
    "print('%d * %d = %d' % (a, b, a * b))\n",
    "print('{0} * {1} = {2}'.format(a, b, a * b))\n",
    "#Python 3.6以后\n",
    "print(f'{a} * {b} = {a * b}')"
   ]
  },
  {
   "cell_type": "code",
   "execution_count": null,
   "metadata": {},
   "outputs": [],
   "source": [
    "#     列表，   元组，   集合，   字典"
   ]
  },
  {
   "cell_type": "code",
   "execution_count": null,
   "metadata": {},
   "outputs": [],
   "source": [
    "#列表（list）是一种结构化的、非标量类型，是值的有序序列，每个值都可以通过索引进行标识.\n",
    "#定义列表可以将列表的元素放在[]中，多个元素用,进行分隔."
   ]
  },
  {
   "cell_type": "code",
   "execution_count": null,
   "metadata": {},
   "outputs": [],
   "source": [
    "list1 = [1, 3, 5, 7, 100]\n",
    "print(list1) # [1, 3, 5, 7, 100]\n",
    "# 乘号表示列表元素的重复\n",
    "list2 = ['hello'] * 3\n",
    "print(list2) # ['hello', 'hello', 'hello']\n",
    "# 计算列表长度(元素个数)\n",
    "print(len(list1)) # 5\n",
    "# 下标(索引)运算\n",
    "print(list1[0]) # 1\n",
    "print(list1[4]) # 100\n",
    "# print(list1[5])  # IndexError: list index out of range\n",
    "print(list1[-1]) # 100\n",
    "print(list1[-3]) # 5\n",
    "list1[2] = 300\n",
    "print(list1) # [1, 3, 300, 7, 100]\n",
    "# 通过循环用下标遍历列表元素\n",
    "for index in range(len(list1)):\n",
    "    print(list1[index])\n",
    "# 通过for循环遍历列表元素\n",
    "for elem in list1:\n",
    "    print(elem)\n",
    "# 通过enumerate函数处理列表之后再遍历可以同时获得元素索引和值\n",
    "for index, elem in enumerate(list1):\n",
    "    print(index, elem)"
   ]
  },
  {
   "cell_type": "code",
   "execution_count": null,
   "metadata": {},
   "outputs": [],
   "source": [
    "list1 = [1, 3, 5, 7, 100]\n",
    "# 添加元素\n",
    "list1.append(200)\n",
    "list1.insert(1, 400)\n",
    "# 合并两个列表\n",
    "# list1.extend([1000, 2000])\n",
    "list1 += [1000, 2000]\n",
    "print(list1) # [1, 400, 3, 5, 7, 100, 200, 1000, 2000]\n",
    "print(len(list1)) # 9\n",
    "# 先通过成员运算判断元素是否在列表中，如果存在就删除该元素\n",
    "if 3 in list1:\n",
    "\tlist1.remove(3)\n",
    "if 1234 in list1:\n",
    "    list1.remove(1234)\n",
    "print(list1) # [1, 400, 5, 7, 100, 200, 1000, 2000]\n",
    "# 从指定的位置删除元素\n",
    "list1.pop(0)\n",
    "list1.pop(len(list1) - 1)\n",
    "print(list1) # [400, 5, 7, 100, 200, 1000]\n",
    "# 清空列表元素\n",
    "list1.clear()\n",
    "print(list1) # []"
   ]
  },
  {
   "cell_type": "code",
   "execution_count": null,
   "metadata": {},
   "outputs": [],
   "source": [
    "fruits = ['grape', 'apple', 'strawberry', 'waxberry']\n",
    "fruits += ['pitaya', 'pear', 'mango']\n",
    "# 列表切片\n",
    "fruits2 = fruits[1:4]\n",
    "print(fruits2) # apple strawberry waxberry\n",
    "# 可以通过完整切片操作来复制列表\n",
    "fruits3 = fruits[:]\n",
    "print(fruits3) # ['grape', 'apple', 'strawberry', 'waxberry', 'pitaya', 'pear', 'mango']\n",
    "fruits4 = fruits[-3:-1]\n",
    "print(fruits4) # ['pitaya', 'pear']\n",
    "# 可以通过反向切片操作来获得倒转后的列表的拷贝\n",
    "fruits5 = fruits[::-1]\n",
    "print(fruits5) # ['mango', 'pear', 'pitaya', 'waxberry', 'strawberry', 'apple', 'grape']"
   ]
  },
  {
   "cell_type": "code",
   "execution_count": null,
   "metadata": {},
   "outputs": [],
   "source": [
    "#Python中的元组与列表类似，可以用一个变量（对象）来存储多个数据，不同之处在于元组的元素不能修改"
   ]
  },
  {
   "cell_type": "code",
   "execution_count": null,
   "metadata": {},
   "outputs": [],
   "source": [
    "# 定义元组\n",
    "t = ('abc', 123, True)\n",
    "print(t)\n",
    "# 获取元组中的元素\n",
    "print(t[0])\n",
    "print(t[2])\n",
    "# 遍历元组中的值\n",
    "for member in t:\n",
    "    print(member)\n",
    "# 重新给元组赋值\n",
    "# t[0] = 'def'  # TypeError\n",
    "# 变量t重新引用了新的元组原来的元组将被垃圾回收\n",
    "t = ('def', 456, True)\n",
    "print(t)\n",
    "# 将元组转换成列表\n",
    "person = list(t)\n",
    "print(person)\n",
    "# 列表是可以修改它的元素的\n",
    "person[0] = 'gg'\n",
    "person[1] = 0\n",
    "print(person)\n",
    "# 将列表转换成元组\n",
    "fruits_list = ['apple', 'banana', 'orange']\n",
    "fruits_tuple = tuple(fruits_list)\n",
    "print(fruits_tuple)"
   ]
  },
  {
   "cell_type": "code",
   "execution_count": null,
   "metadata": {},
   "outputs": [],
   "source": [
    "#如果不需要对元素进行添加、删除、修改的时候，可以考虑使用元组，当然如果一个方法要返回多个值，使用元组也是不错的选择。\n",
    "#元组不能修改，因而线程安全，方便多线程维护。\n",
    "#元组在创建时间和占用的空间上面都优于列表。"
   ]
  },
  {
   "cell_type": "code",
   "execution_count": null,
   "metadata": {},
   "outputs": [],
   "source": [
    "#集合不允许有重复元素，而且可以进行交集、并集、差集等运算。"
   ]
  },
  {
   "cell_type": "code",
   "execution_count": null,
   "metadata": {},
   "outputs": [],
   "source": [
    "# 创建集合的字面量语法\n",
    "set1 = {1, 2, 3, 3, 3, 2}\n",
    "print(set1)\n",
    "print('Length =', len(set1))\n",
    "# 创建集合的构造器语法(面向对象部分会进行详细讲解)\n",
    "set2 = set(range(1, 10))\n",
    "set3 = set((1, 2, 3, 3, 2, 1))\n",
    "print(set2, set3)\n",
    "# 创建集合的推导式语法(推导式也可以用于推导集合)\n",
    "set4 = {num for num in range(1, 100) if num % 3 == 0 or num % 5 == 0}\n",
    "print(set4)"
   ]
  },
  {
   "cell_type": "code",
   "execution_count": null,
   "metadata": {},
   "outputs": [],
   "source": [
    "set1.add(4)\n",
    "set1.add(5)\n",
    "set2.update([11, 12])\n",
    "set2.discard(5)\n",
    "if 4 in set2:\n",
    "    set2.remove(4)\n",
    "print(set1, set2)\n",
    "print(set3.pop())\n",
    "print(set3)"
   ]
  },
  {
   "cell_type": "code",
   "execution_count": null,
   "metadata": {},
   "outputs": [],
   "source": [
    "# 集合的交集、并集、差集、对称差运算\n",
    "print(set1 & set2)\n",
    "# print(set1.intersection(set2))\n",
    "print(set1 | set2)\n",
    "# print(set1.union(set2))\n",
    "print(set1 - set2)\n",
    "# print(set1.difference(set2))\n",
    "print(set1 ^ set2)\n",
    "# print(set1.symmetric_difference(set2))\n",
    "# 判断子集和超集\n",
    "print(set2 <= set1)\n",
    "# print(set2.issubset(set1))\n",
    "print(set3 <= set1)\n",
    "# print(set3.issubset(set1))\n",
    "print(set1 >= set2)\n",
    "# print(set1.issuperset(set2))\n",
    "print(set1 >= set3)\n",
    "# print(set1.issuperset(set3))"
   ]
  },
  {
   "cell_type": "code",
   "execution_count": null,
   "metadata": {},
   "outputs": [],
   "source": [
    "#字典是另一种可变容器模型，可以存储任意类型对象。\n",
    "#与列表、集合不同的是，字典的每个元素都是由一个键和一个值组成的“键值对”，键和值通过冒号分开。"
   ]
  },
  {
   "cell_type": "code",
   "execution_count": null,
   "metadata": {},
   "outputs": [],
   "source": [
    "# 创建字典的字面量语法\n",
    "scores = {'a': 1, 'b': 2, 'c': 3}\n",
    "print(scores)\n",
    "# 创建字典的构造器语法\n",
    "items1 = dict(one=1, two=2, three=3, four=4)\n",
    "# 通过zip函数将两个序列压成字典\n",
    "items2 = dict(zip(['a', 'b', 'c'], '123'))\n",
    "# 创建字典的推导式语法\n",
    "items3 = {num: num ** 2 for num in range(1, 10)}\n",
    "print(items1, items2, items3)\n",
    "# 通过键可以获取字典中对应的值\n",
    "print(scores['a'])\n",
    "print(scores['c'])\n",
    "# 对字典中所有键值对进行遍历\n",
    "for key in scores:\n",
    "    print(f'{key}: {scores[key]}')\n",
    "# 更新字典中的元素\n",
    "scores['b'] = 6\n",
    "scores['d'] = 7\n",
    "scores.update(e=9, f=8)\n",
    "print(scores)\n",
    "if 'c' in scores:\n",
    "    print(scores['c'])\n",
    "print(scores.get('c'))\n",
    "# get方法也是通过键获取对应的值但是可以设置默认值\n",
    "print(scores.get('c', 3))\n",
    "# 删除字典中的元素\n",
    "print(scores.popitem())\n",
    "print(scores.popitem())\n",
    "print(scores.pop('a', 1))\n",
    "# 清空字典\n",
    "scores.clear()\n",
    "print(scores)"
   ]
  },
  {
   "cell_type": "code",
   "execution_count": null,
   "metadata": {},
   "outputs": [],
   "source": []
  }
 ],
 "metadata": {
  "kernelspec": {
   "display_name": "Python 3",
   "language": "python",
   "name": "python3"
  },
  "language_info": {
   "codemirror_mode": {
    "name": "ipython",
    "version": 3
   },
   "file_extension": ".py",
   "mimetype": "text/x-python",
   "name": "python",
   "nbconvert_exporter": "python",
   "pygments_lexer": "ipython3",
   "version": "3.8.5"
  }
 },
 "nbformat": 4,
 "nbformat_minor": 4
}
